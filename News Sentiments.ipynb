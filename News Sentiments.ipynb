{
 "cells": [
  {
   "cell_type": "code",
   "execution_count": null,
   "id": "94db6ee9-0b28-4bc4-af18-9fc86d08731a",
   "metadata": {},
   "outputs": [],
   "source": [
    "positive_keywords = [\"beat\", \"gain\", \"up\", \"growth\", \"rise\", \"surge\", \"record\", \"strong\", \"accommodative (monetary policy)\", \"dovish\", \"breakout\", \"flight to quality\", \"buy the dip\", \"strong earnings\", \"bull market\", \"bullish\", \"rally\", \"bull Run\", \"optimism\", \"growth\", \"upward trend\", \"buy\", \"gains\", \"boom\"]\n",
    "negative_keywords = [\"miss\", \"loss\", \"down\", \"fall\", \"drop\", \"weak\", \"decline\", \"plunge\", \"bear market\", \"bearish\", \"correction\", \"sell-off\", \"pessimism\", \"downturn\", \"volatility\", \"recession\", \"crash\", \"bubble\", \"hawkish\", \"headwinds\", \"capitulation\", \"dead cat bounce\", \"stagflation\", \"contagion\"]\n",
    "headline = input(\"let's check if this news is positive or negavite \").lower()\n",
    "sentiment = \"Neutral\"\n",
    "for word in positive_keywords:\n",
    "    if word in headline:\n",
    "        sentiment = \"positive\"\n",
    "        break\n",
    "\n",
    "for word in negative_keywords:\n",
    "    if word in headline:\n",
    "        sentiment = \"negative\"\n",
    "        break\n",
    "\n",
    "print(\"new sentiment:\", sentiment)"
   ]
  }
 ],
 "metadata": {
  "kernelspec": {
   "display_name": "anaconda-2024.02-py310",
   "language": "python",
   "name": "conda-env-anaconda-2024.02-py310-py"
  },
  "language_info": {
   "codemirror_mode": {
    "name": "ipython",
    "version": 3
   },
   "file_extension": ".py",
   "mimetype": "text/x-python",
   "name": "python",
   "nbconvert_exporter": "python",
   "pygments_lexer": "ipython3",
   "version": "3.10.14"
  }
 },
 "nbformat": 4,
 "nbformat_minor": 5
}
