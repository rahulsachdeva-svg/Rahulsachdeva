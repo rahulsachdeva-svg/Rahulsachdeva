{
 "cells": [
  {
   "cell_type": "code",
   "execution_count": 3,
   "id": "22765903-ec61-45c5-90e5-e2d7bc8fe894",
   "metadata": {},
   "outputs": [
    {
     "name": "stdin",
     "output_type": "stream",
     "text": [
      "Enter your monthly income: € 500\n",
      "Enter rent expense: € 00\n",
      "Enter groceries expense: € 00\n",
      "Enter travel expense: € 60\n",
      "Enter entertainment expense: € 900\n",
      "Enter other expenses: € 25\n"
     ]
    },
    {
     "name": "stdout",
     "output_type": "stream",
     "text": [
      "\n",
      "---Monthly Summary---\n",
      "Total expenses: € 985.0\n",
      "Net savings: € -485.0\n",
      "Spending: 197.00%\n",
      "Savings: -97.00%\n",
      "⚠️  You are overspending! Time to review your budget.\n"
     ]
    }
   ],
   "source": [
    "income = float(input(\"Enter your monthly income: €\"))\n",
    "rent = float(input(\"Enter rent expense: €\"))\n",
    "groceries = float(input(\"Enter groceries expense: €\"))\n",
    "travel = float(input(\"Enter travel expense: €\"))\n",
    "entertainment = float(input(\"Enter entertainment expense: €\"))\n",
    "other = float(input(\"Enter other expenses: €\"))\n",
    "\n",
    "total_expenses = rent + groceries + travel + entertainment + other\n",
    "savings = income - total_expenses\n",
    "spending_percent = (total_expenses / income )*100\n",
    "savings_percent = (savings/income)*100\n",
    "\n",
    "print (\"\\n---Monthly Summary---\")\n",
    "print (f\"Total expenses: € {total_expenses}\")\n",
    "print (f\"Net savings: € {savings}\")\n",
    "print (f\"Spending: {spending_percent:.2f}%\")\n",
    "print (f\"Savings: {savings_percent: .2f}%\")\n",
    "\n",
    "if savings < 0:\n",
    "    print (\"⚠️  You are overspending! Time to review your budget.\")\n",
    "else:\n",
    "    print (\"✅ Good job! You are saving money.\")\n"
   ]
  },
  {
   "cell_type": "code",
   "execution_count": null,
   "id": "ac6f9519-b914-4976-856b-1b11900f6ef4",
   "metadata": {},
   "outputs": [],
   "source": []
  }
 ],
 "metadata": {
  "kernelspec": {
   "display_name": "anaconda-2024.02-py310",
   "language": "python",
   "name": "conda-env-anaconda-2024.02-py310-py"
  },
  "language_info": {
   "codemirror_mode": {
    "name": "ipython",
    "version": 3
   },
   "file_extension": ".py",
   "mimetype": "text/x-python",
   "name": "python",
   "nbconvert_exporter": "python",
   "pygments_lexer": "ipython3",
   "version": "3.10.14"
  }
 },
 "nbformat": 4,
 "nbformat_minor": 5
}
